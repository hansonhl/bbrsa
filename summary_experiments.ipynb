{
 "cells": [
  {
   "cell_type": "markdown",
   "metadata": {},
   "source": [
    "# Experimenting with different distractors"
   ]
  },
  {
   "cell_type": "markdown",
   "metadata": {},
   "source": [
    "## Initial setup"
   ]
  },
  {
   "cell_type": "code",
   "execution_count": 38,
   "metadata": {},
   "outputs": [],
   "source": [
    "# setup\n",
    "import time\n",
    "import sys, os\n",
    "import torch\n",
    "import logging\n",
    "\n",
    "ONMT_DIR = '../myOpenNMT'\n",
    "sys.path.append(os.path.abspath(ONMT_DIR))\n",
    "\n",
    "from bbrsa import ONMTSummaryRSA\n",
    "from models import ONMTSummarizer\n",
    "from pragmatics import NextExampleDistractor, BasicPragmatics, IdenticalDistractor\n",
    "from utils import init_logger, display\n",
    "\n",
    "# logger = init_logger(no_format=True, print_level=logging.WARNING, log_file='logs/log5.txt',\n",
    "#                      log_file_level=logging.WARNING, log_mode='w')\n",
    "logger = init_logger(no_format=True, print_level=logging.WARNING)"
   ]
  },
  {
   "cell_type": "markdown",
   "metadata": {},
   "source": [
    "## Load files"
   ]
  },
  {
   "cell_type": "code",
   "execution_count": 2,
   "metadata": {},
   "outputs": [],
   "source": [
    "src_file = 'data/giga_small_input.txt'\n",
    "tgt_file = 'data/giga_small_target.txt'\n",
    "with open(src_file, 'r') as f:\n",
    "    src = f.readlines()\n",
    "with open(tgt_file, 'r') as f:\n",
    "    tgt = f.readlines()\n",
    "src = src[:5]\n",
    "tgt = tgt[:5]"
   ]
  },
  {
   "cell_type": "markdown",
   "metadata": {},
   "source": [
    "## Preparing models"
   ]
  },
  {
   "cell_type": "code",
   "execution_count": 3,
   "metadata": {},
   "outputs": [],
   "source": [
    "giga_config_path = 'giga_inference.yml'\n",
    "s0 = ONMTSummarizer(config_path=giga_config_path, logger=logger)\n",
    "pragmatics = BasicPragmatics(alpha=10, logger=logger)\n",
    "distractor = NextExampleDistractor(batch_size=s0.opt.batch_size, logger=logger)\n",
    "model = ONMTSummaryRSA(s0, pragmatics, distractor, logger=logger)\n"
   ]
  },
  {
   "cell_type": "code",
   "execution_count": 4,
   "metadata": {},
   "outputs": [
    {
     "name": "stderr",
     "output_type": "stream",
     "text": [
      "/home/hansonlu/anaconda2/envs/opennmt/lib/python3.7/site-packages/torchtext/data/field.py:359: UserWarning: To copy construct from a tensor, it is recommended to use sourceTensor.clone().detach() or sourceTensor.clone().detach().requires_grad_(True), rather than torch.tensor(sourceTensor).\n",
      "  var = torch.tensor(arr, dtype=self.dtype, device=device)\n"
     ]
    }
   ],
   "source": [
    "pred1 = model.summarize_with_distractor(src, beam_size=1)\n",
    "pred2 = model.summarize_with_s0(src, beam_size=1)\n"
   ]
  },
  {
   "cell_type": "markdown",
   "metadata": {},
   "source": [
    "## Summarize"
   ]
  },
  {
   "cell_type": "code",
   "execution_count": 5,
   "metadata": {
    "scrolled": true
   },
   "outputs": [
    {
     "name": "stdout",
     "output_type": "stream",
     "text": [
      "S1: nec UNK computer to join forces\n",
      "S0: nec UNK computer to join forces in supercomputer sales\n",
      "\n",
      "S1: sri lanka closes schools with immediate effect\n",
      "S0: sri lanka closes schools with immediate effect on tamil rebels\n",
      "\n",
      "S1: police arrest five anti-nuclear protesters\n",
      "S0: police arrest five anti-nuclear protesters\n",
      "\n",
      "S1: factory orders up #.# percent in september\n",
      "S0: factory orders up #.# percent in september\n",
      "\n",
      "S1: boj urges calm after daiwa bank closure order lifted\n",
      "S0: boj urges calm after daiwa bank closure\n",
      "\n"
     ]
    }
   ],
   "source": [
    "\n",
    "display(['S1', 'S0'], [pred1, pred2])"
   ]
  },
  {
   "cell_type": "markdown",
   "metadata": {},
   "source": [
    "## Experimenting on the Gigaword dataset\n",
    "\n",
    "$\\alpha = 5$\n",
    "__(distractor)__\n",
    "police arrested __six anti-government__ protesters friday after they sought to disrupt loading of a french antarctic research and supply vessel , a spokesman for the protesters said .\n",
    "\n",
    "S1: six anti-government protesters arrested in france\n",
    "\n",
    "S0: police arrest six protesters in attempt to disrupt antarctic research\n",
    "\n",
    "__(original text)__\n",
    "police arrested __five anti-nuclear__ protesters friday after they sought to disrupt loading of a french antarctic research and supply vessel , a spokesman for the protesters said .\n",
    "\n",
    "S1: five anti-nuclear protesters arrested\n",
    "\n",
    "S0: police arrest five anti-nuclear protesters\n",
    "\n",
    "__(reference)__ protesters target french research ship\n",
    "\n",
    "\n"
   ]
  },
  {
   "cell_type": "code",
   "execution_count": 6,
   "metadata": {},
   "outputs": [
    {
     "name": "stdout",
     "output_type": "stream",
     "text": [
      "S1: six anti-government protesters arrested in france\n",
      "S0: police arrest six protesters in attempt to disrupt antarctic research\n",
      "\n",
      "S1: five anti-nuclear protesters arrested\n",
      "S0: police arrest five anti-nuclear protesters\n",
      "\n"
     ]
    }
   ],
   "source": [
    "src = ['police arrested six anti-government protesters friday after they sought to disrupt loading of a french antarctic research and supply vessel , a spokesman for the protesters said .',\n",
    "       'police arrested five anti-nuclear protesters friday after they sought to disrupt loading of a french antarctic research and supply vessel , a spokesman for the protesters said .']\n",
    "\n",
    "pragmatics = BasicPragmatics(alpha=5, logger=logger)\n",
    "model = ONMTSummaryRSA(s0, pragmatics, distractor, logger=logger)\n",
    "s1_pred = model.summarize_with_distractor(src, beam_size=1)\n",
    "s0_pred = model.summarize_with_s0(src, beam_size=1)\n",
    "\n",
    "display(['S1', 'S0'], [s1_pred, s0_pred])"
   ]
  },
  {
   "cell_type": "markdown",
   "metadata": {},
   "source": [
    "\n",
    "\n",
    "__(distractor)__ police arrested five anti-nuclear protesters friday after they sought to disrupt __operations at a nuclear plant__ , a spokesman for the protesters said .\n",
    "\n",
    "S1($\\alpha = 1$): police arrest five anti-nuclear protesters\n",
    "\n",
    "S1($\\alpha = 2$): police arrest five anti-nuclear protesters\n",
    "\n",
    "S1($\\alpha = 5$): nuclear plant protesters arrested\n",
    "    \n",
    "S1($\\alpha = 10$): nuclear plant operations shut \n",
    "\n",
    "S0: police arrest five anti-nuclear protesters\n",
    "\n",
    "__(original)__ police arrested five anti-nuclear protesters friday after they sought to disrupt __loading of a french antarctic research and supply vessel__ , a spokesman for the protesters said .\n",
    "\n",
    "S1($\\alpha = 1$): police arrest five anti-nuclear protesters\n",
    "\n",
    "S1($\\alpha = 2$): anti-nuclear protesters arrested in france\n",
    "\n",
    "S1($\\alpha = 5$): antarctic research vessel arrested after french ship blocked\n",
    "\n",
    "S1($\\alpha = 10$): antarctic research vessel arrested over french ship\n",
    "\n",
    "S0: police arrest five anti-nuclear protesters\n",
    "\n"
   ]
  },
  {
   "cell_type": "code",
   "execution_count": 29,
   "metadata": {},
   "outputs": [
    {
     "name": "stdout",
     "output_type": "stream",
     "text": [
      "S1: nuclear plant protesters arrested\n",
      "S0: police arrest five anti-nuclear protesters\n",
      "\n",
      "S1: anti-nuclear protesters arrested in france\n",
      "S0: police arrest five anti-nuclear protesters\n",
      "\n",
      "\n"
     ]
    }
   ],
   "source": [
    "src = ['police arrested five anti-nuclear protesters friday after they sought to disrupt operations at a nuclear plant , a spokesman for the protesters said .',\n",
    "       'police arrested five anti-nuclear protesters friday after they sought to disrupt loading of a french antarctic research and supply vessel , a spokesman for the protesters said .']\n",
    "\n",
    "model.set_alpha(3)\n",
    "s1_pred = model.summarize_with_distractor(src, beam_size=1)\n",
    "s0_pred = model.summarize_with_s0(src, beam_size=1)\n",
    "\n",
    "display(['S1', 'S0'], [s1_pred, s0_pred])\n",
    "print()"
   ]
  },
  {
   "cell_type": "markdown",
   "metadata": {},
   "source": [
    "__(distractor)__ police arrested five anti-nuclear protesters friday after they sought to disrupt loading of __an american__ antarctic research and supply vessel , a spokesman for the protesters said .\n",
    "\n",
    "S0, S1($\\alpha = 1$): police arrest five anti-nuclear protesters\n",
    "\n",
    "S1($\\alpha = 2$): police arrest five protesters in attempt to disrupt u.s. antarctic research\n",
    "\n",
    "S1($\\alpha = 3$): police arrest five protesters in anti-whaling protest\n",
    "\n",
    "S1($\\alpha = 4$): police arrest five protesters\n",
    "\n",
    "S1($\\alpha = 5$): american antarctic protesters arrested\n",
    "\n",
    "S1($\\alpha = 10$): american antarctic protesters arrested\n",
    "\n",
    "__(original)__ police arrested five anti-nuclear protesters friday after they sought to disrupt loading of __a french__ antarctic research and supply vessel , a spokesman for the protesters said .\n",
    "\n",
    "S0, S1($\\alpha = 1$): police arrest five anti-nuclear protesters\n",
    "\n",
    "S1($\\alpha = 2$): police arrest five anti-nuclear protesters\n",
    "\n",
    "S1($\\alpha = 3$): police arrest five anti-nuclear protesters\n",
    "\n",
    "S1($\\alpha = 4$): french police arrest five anti-nuclear protesters\n",
    "\n",
    "S1($\\alpha = 5$): french police arrest five anti-nuclear protesters\n",
    "\n",
    "S1($\\alpha = 10$): french antarctic protesters arrested\n"
   ]
  },
  {
   "cell_type": "code",
   "execution_count": 39,
   "metadata": {},
   "outputs": [
    {
     "name": "stdout",
     "output_type": "stream",
     "text": [
      "S1: police arrest five protesters\n",
      "S0: police arrest five anti-nuclear protesters\n",
      "\n",
      "S1: french police arrest five anti-nuclear protesters\n",
      "S0: police arrest five anti-nuclear protesters\n",
      "\n"
     ]
    }
   ],
   "source": [
    "src = ['police arrested five anti-nuclear protesters friday after they sought to disrupt loading of an american antarctic research and supply vessel , a spokesman for the protesters said .',\n",
    "       'police arrested five anti-nuclear protesters friday after they sought to disrupt loading of a french antarctic research and supply vessel , a spokesman for the protesters said .']\n",
    "\n",
    "model.set_alpha(4)\n",
    "s1_pred = model.summarize_with_distractor(src, beam_size=1)\n",
    "s0_pred = model.summarize_with_s0(src, beam_size=1)\n",
    "\n",
    "display(['S1', 'S0'], [s1_pred, s0_pred])"
   ]
  },
  {
   "cell_type": "code",
   "execution_count": null,
   "metadata": {},
   "outputs": [],
   "source": []
  }
 ],
 "metadata": {
  "kernelspec": {
   "display_name": "Python 3",
   "language": "python",
   "name": "python3"
  },
  "language_info": {
   "codemirror_mode": {
    "name": "ipython",
    "version": 3
   },
   "file_extension": ".py",
   "mimetype": "text/x-python",
   "name": "python",
   "nbconvert_exporter": "python",
   "pygments_lexer": "ipython3",
   "version": "3.7.3"
  }
 },
 "nbformat": 4,
 "nbformat_minor": 2
}
