{
 "cells": [
  {
   "cell_type": "markdown",
   "metadata": {},
   "source": [
    "# Analysis of Hanson's experimental results"
   ]
  },
  {
   "cell_type": "markdown",
   "metadata": {},
   "source": [
    "## Contents\n",
    "\n",
    "1. [Set-up](#Set-up)\n",
    "1. [Results DataFrame](#Results-DataFrame)\n",
    "1. [Listener accuracy broken down by distractor size](#Listener-accuracy-broken-down-by-distractor-size)\n",
    "1. [The role of alpha for the incremental S1](#The-role-of-alpha-for-the-incremental-S1)\n",
    "1. [ROUGE scoring](#ROUGE-scoring)"
   ]
  },
  {
   "cell_type": "markdown",
   "metadata": {},
   "source": [
    "## Set-up"
   ]
  },
  {
   "cell_type": "code",
   "execution_count": 1,
   "metadata": {},
   "outputs": [],
   "source": [
    "%matplotlib inline\n",
    "import matplotlib.pyplot as plt\n",
    "import pandas as pd"
   ]
  },
  {
   "cell_type": "code",
   "execution_count": 2,
   "metadata": {},
   "outputs": [],
   "source": [
    "plt.style.use(\"ggplot\")"
   ]
  },
  {
   "cell_type": "markdown",
   "metadata": {},
   "source": [
    "## Results DataFrame"
   ]
  },
  {
   "cell_type": "code",
   "execution_count": 4,
   "metadata": {},
   "outputs": [],
   "source": [
    "df = pd.read_csv(\"rsa_summ_results_2031.csv\")"
   ]
  },
  {
   "cell_type": "markdown",
   "metadata": {},
   "source": [
    "Restrict to the colummns with diverse values to make inspection easier:"
   ]
  },
  {
   "cell_type": "code",
   "execution_count": 5,
   "metadata": {},
   "outputs": [],
   "source": [
    "cols = ['mode', 'prag_alpha', 'bert_distr_d_factor', 'listener_acc']\n",
    "\n",
    "cols = [c for c in df.columns if len(df[c].unique()) > 1]\n",
    "\n",
    "df = df[cols].drop('pred_save_file', axis=1).copy()"
   ]
  },
  {
   "cell_type": "code",
   "execution_count": 6,
   "metadata": {},
   "outputs": [
    {
     "data": {
      "text/html": [
       "<div>\n",
       "<style scoped>\n",
       "    .dataframe tbody tr th:only-of-type {\n",
       "        vertical-align: middle;\n",
       "    }\n",
       "\n",
       "    .dataframe tbody tr th {\n",
       "        vertical-align: top;\n",
       "    }\n",
       "\n",
       "    .dataframe thead th {\n",
       "        text-align: right;\n",
       "    }\n",
       "</style>\n",
       "<table border=\"1\" class=\"dataframe\">\n",
       "  <thead>\n",
       "    <tr style=\"text-align: right;\">\n",
       "      <th></th>\n",
       "      <th>id</th>\n",
       "      <th>mode</th>\n",
       "      <th>prag_alpha</th>\n",
       "      <th>bert_distr_d_factor</th>\n",
       "      <th>bert_distr_repl_search_top</th>\n",
       "      <th>bert_distr_repl_search_bottom</th>\n",
       "      <th>bert_distr_exclusion_set</th>\n",
       "      <th>listener_acc</th>\n",
       "      <th>eval_duration</th>\n",
       "      <th>rouge_1r</th>\n",
       "      <th>rouge_1p</th>\n",
       "      <th>rouge_1f</th>\n",
       "      <th>rouge_2r</th>\n",
       "      <th>rouge_2p</th>\n",
       "      <th>rouge_2f</th>\n",
       "      <th>rouge_lr</th>\n",
       "      <th>rouge_lp</th>\n",
       "      <th>rouge_lf</th>\n",
       "      <th>METEOR</th>\n",
       "    </tr>\n",
       "  </thead>\n",
       "  <tbody>\n",
       "    <tr>\n",
       "      <th>0</th>\n",
       "      <td>2</td>\n",
       "      <td>incr_s1</td>\n",
       "      <td>0.50</td>\n",
       "      <td>2</td>\n",
       "      <td>5</td>\n",
       "      <td>10</td>\n",
       "      <td>0</td>\n",
       "      <td>0.528311</td>\n",
       "      <td>635.765002</td>\n",
       "      <td>0.425080</td>\n",
       "      <td>0.503042</td>\n",
       "      <td>0.449594</td>\n",
       "      <td>0.223988</td>\n",
       "      <td>0.262724</td>\n",
       "      <td>0.235246</td>\n",
       "      <td>0.401602</td>\n",
       "      <td>0.474563</td>\n",
       "      <td>0.424590</td>\n",
       "      <td>0.210718</td>\n",
       "    </tr>\n",
       "    <tr>\n",
       "      <th>1</th>\n",
       "      <td>3</td>\n",
       "      <td>incr_s1</td>\n",
       "      <td>0.50</td>\n",
       "      <td>2</td>\n",
       "      <td>5</td>\n",
       "      <td>10</td>\n",
       "      <td>3</td>\n",
       "      <td>0.552437</td>\n",
       "      <td>625.441476</td>\n",
       "      <td>0.425911</td>\n",
       "      <td>0.504344</td>\n",
       "      <td>0.450698</td>\n",
       "      <td>0.224997</td>\n",
       "      <td>0.264556</td>\n",
       "      <td>0.236569</td>\n",
       "      <td>0.402485</td>\n",
       "      <td>0.476159</td>\n",
       "      <td>0.425818</td>\n",
       "      <td>0.210457</td>\n",
       "    </tr>\n",
       "    <tr>\n",
       "      <th>2</th>\n",
       "      <td>4</td>\n",
       "      <td>incr_s1</td>\n",
       "      <td>0.75</td>\n",
       "      <td>2</td>\n",
       "      <td>5</td>\n",
       "      <td>10</td>\n",
       "      <td>0</td>\n",
       "      <td>0.524865</td>\n",
       "      <td>589.455979</td>\n",
       "      <td>0.425857</td>\n",
       "      <td>0.501904</td>\n",
       "      <td>0.449380</td>\n",
       "      <td>0.224180</td>\n",
       "      <td>0.261399</td>\n",
       "      <td>0.234689</td>\n",
       "      <td>0.402422</td>\n",
       "      <td>0.473682</td>\n",
       "      <td>0.424536</td>\n",
       "      <td>0.210513</td>\n",
       "    </tr>\n",
       "    <tr>\n",
       "      <th>3</th>\n",
       "      <td>5</td>\n",
       "      <td>incr_s1</td>\n",
       "      <td>0.75</td>\n",
       "      <td>2</td>\n",
       "      <td>5</td>\n",
       "      <td>10</td>\n",
       "      <td>3</td>\n",
       "      <td>0.552930</td>\n",
       "      <td>579.628515</td>\n",
       "      <td>0.425374</td>\n",
       "      <td>0.501914</td>\n",
       "      <td>0.449317</td>\n",
       "      <td>0.223634</td>\n",
       "      <td>0.261610</td>\n",
       "      <td>0.234457</td>\n",
       "      <td>0.402005</td>\n",
       "      <td>0.474028</td>\n",
       "      <td>0.424570</td>\n",
       "      <td>0.210679</td>\n",
       "    </tr>\n",
       "    <tr>\n",
       "      <th>4</th>\n",
       "      <td>6</td>\n",
       "      <td>incr_s1</td>\n",
       "      <td>1.00</td>\n",
       "      <td>2</td>\n",
       "      <td>5</td>\n",
       "      <td>10</td>\n",
       "      <td>0</td>\n",
       "      <td>0.525357</td>\n",
       "      <td>611.857244</td>\n",
       "      <td>0.425464</td>\n",
       "      <td>0.499672</td>\n",
       "      <td>0.448297</td>\n",
       "      <td>0.223024</td>\n",
       "      <td>0.259127</td>\n",
       "      <td>0.233064</td>\n",
       "      <td>0.401387</td>\n",
       "      <td>0.471000</td>\n",
       "      <td>0.422882</td>\n",
       "      <td>0.210332</td>\n",
       "    </tr>\n",
       "  </tbody>\n",
       "</table>\n",
       "</div>"
      ],
      "text/plain": [
       "   id     mode  prag_alpha  bert_distr_d_factor  bert_distr_repl_search_top  \\\n",
       "0   2  incr_s1        0.50                    2                           5   \n",
       "1   3  incr_s1        0.50                    2                           5   \n",
       "2   4  incr_s1        0.75                    2                           5   \n",
       "3   5  incr_s1        0.75                    2                           5   \n",
       "4   6  incr_s1        1.00                    2                           5   \n",
       "\n",
       "   bert_distr_repl_search_bottom  bert_distr_exclusion_set  listener_acc  \\\n",
       "0                             10                         0      0.528311   \n",
       "1                             10                         3      0.552437   \n",
       "2                             10                         0      0.524865   \n",
       "3                             10                         3      0.552930   \n",
       "4                             10                         0      0.525357   \n",
       "\n",
       "   eval_duration  rouge_1r  rouge_1p  rouge_1f  rouge_2r  rouge_2p  rouge_2f  \\\n",
       "0     635.765002  0.425080  0.503042  0.449594  0.223988  0.262724  0.235246   \n",
       "1     625.441476  0.425911  0.504344  0.450698  0.224997  0.264556  0.236569   \n",
       "2     589.455979  0.425857  0.501904  0.449380  0.224180  0.261399  0.234689   \n",
       "3     579.628515  0.425374  0.501914  0.449317  0.223634  0.261610  0.234457   \n",
       "4     611.857244  0.425464  0.499672  0.448297  0.223024  0.259127  0.233064   \n",
       "\n",
       "   rouge_lr  rouge_lp  rouge_lf    METEOR  \n",
       "0  0.401602  0.474563  0.424590  0.210718  \n",
       "1  0.402485  0.476159  0.425818  0.210457  \n",
       "2  0.402422  0.473682  0.424536  0.210513  \n",
       "3  0.402005  0.474028  0.424570  0.210679  \n",
       "4  0.401387  0.471000  0.422882  0.210332  "
      ]
     },
     "execution_count": 6,
     "metadata": {},
     "output_type": "execute_result"
    }
   ],
   "source": [
    "df.head()"
   ]
  },
  {
   "cell_type": "markdown",
   "metadata": {},
   "source": [
    "## Listener accuracy broken down by distractor size\n",
    "\n",
    "The numbers here look like a clear argument for the incremental S1. \n",
    "\n",
    "* Fingers crossed on this holding for `bert_distr_d_factor=10` as well!\n",
    "* Would it be better to do the average rather than the max? Or maybe the average of the runs with the best `prag_alpha`?"
   ]
  },
  {
   "cell_type": "code",
   "execution_count": 7,
   "metadata": {},
   "outputs": [],
   "source": [
    "def get_listener_accuracy_by_distractor(df, aggfunc):\n",
    "    return pd.pivot_table(\n",
    "        df, \n",
    "        index='bert_distr_d_factor', \n",
    "        columns='mode', \n",
    "        values='listener_acc',\n",
    "        aggfunc=aggfunc)"
   ]
  },
  {
   "cell_type": "code",
   "execution_count": 8,
   "metadata": {},
   "outputs": [
    {
     "data": {
      "text/html": [
       "<div>\n",
       "<style scoped>\n",
       "    .dataframe tbody tr th:only-of-type {\n",
       "        vertical-align: middle;\n",
       "    }\n",
       "\n",
       "    .dataframe tbody tr th {\n",
       "        vertical-align: top;\n",
       "    }\n",
       "\n",
       "    .dataframe thead th {\n",
       "        text-align: right;\n",
       "    }\n",
       "</style>\n",
       "<table border=\"1\" class=\"dataframe\">\n",
       "  <thead>\n",
       "    <tr style=\"text-align: right;\">\n",
       "      <th>mode</th>\n",
       "      <th>incr_s1</th>\n",
       "      <th>s0</th>\n",
       "    </tr>\n",
       "    <tr>\n",
       "      <th>bert_distr_d_factor</th>\n",
       "      <th></th>\n",
       "      <th></th>\n",
       "    </tr>\n",
       "  </thead>\n",
       "  <tbody>\n",
       "    <tr>\n",
       "      <th>2</th>\n",
       "      <td>0.575086</td>\n",
       "      <td>0.554899</td>\n",
       "    </tr>\n",
       "    <tr>\n",
       "      <th>5</th>\n",
       "      <td>0.375185</td>\n",
       "      <td>0.317085</td>\n",
       "    </tr>\n",
       "    <tr>\n",
       "      <th>10</th>\n",
       "      <td>0.302806</td>\n",
       "      <td>0.223043</td>\n",
       "    </tr>\n",
       "  </tbody>\n",
       "</table>\n",
       "</div>"
      ],
      "text/plain": [
       "mode                  incr_s1        s0\n",
       "bert_distr_d_factor                    \n",
       "2                    0.575086  0.554899\n",
       "5                    0.375185  0.317085\n",
       "10                   0.302806  0.223043"
      ]
     },
     "execution_count": 8,
     "metadata": {},
     "output_type": "execute_result"
    }
   ],
   "source": [
    "get_listener_accuracy_by_distractor(df, aggfunc='max')"
   ]
  },
  {
   "cell_type": "code",
   "execution_count": 9,
   "metadata": {},
   "outputs": [
    {
     "data": {
      "text/html": [
       "<div>\n",
       "<style scoped>\n",
       "    .dataframe tbody tr th:only-of-type {\n",
       "        vertical-align: middle;\n",
       "    }\n",
       "\n",
       "    .dataframe tbody tr th {\n",
       "        vertical-align: top;\n",
       "    }\n",
       "\n",
       "    .dataframe thead th {\n",
       "        text-align: right;\n",
       "    }\n",
       "</style>\n",
       "<table border=\"1\" class=\"dataframe\">\n",
       "  <thead>\n",
       "    <tr style=\"text-align: right;\">\n",
       "      <th>mode</th>\n",
       "      <th>incr_s1</th>\n",
       "      <th>s0</th>\n",
       "    </tr>\n",
       "    <tr>\n",
       "      <th>bert_distr_d_factor</th>\n",
       "      <th></th>\n",
       "      <th></th>\n",
       "    </tr>\n",
       "  </thead>\n",
       "  <tbody>\n",
       "    <tr>\n",
       "      <th>2</th>\n",
       "      <td>0.550123</td>\n",
       "      <td>0.547514</td>\n",
       "    </tr>\n",
       "    <tr>\n",
       "      <th>5</th>\n",
       "      <td>0.338060</td>\n",
       "      <td>0.304284</td>\n",
       "    </tr>\n",
       "    <tr>\n",
       "      <th>10</th>\n",
       "      <td>0.269883</td>\n",
       "      <td>0.208764</td>\n",
       "    </tr>\n",
       "  </tbody>\n",
       "</table>\n",
       "</div>"
      ],
      "text/plain": [
       "mode                  incr_s1        s0\n",
       "bert_distr_d_factor                    \n",
       "2                    0.550123  0.547514\n",
       "5                    0.338060  0.304284\n",
       "10                   0.269883  0.208764"
      ]
     },
     "execution_count": 9,
     "metadata": {},
     "output_type": "execute_result"
    }
   ],
   "source": [
    "get_listener_accuracy_by_distractor(df, aggfunc='mean')"
   ]
  },
  {
   "cell_type": "markdown",
   "metadata": {},
   "source": [
    "Here you can start to see that the S1 advantage is likely bigger for larger distractor sets:"
   ]
  },
  {
   "cell_type": "code",
   "execution_count": 10,
   "metadata": {},
   "outputs": [],
   "source": [
    "def plot_listener_accuracy_by_distractor(df, aggfunc):\n",
    "    pt = get_listener_accuracy_by_distractor(df, aggfunc)\n",
    "    ax = pt.plot()\n",
    "    ax.set_ylabel('listener_acc')\n",
    "    ax.set_xticks(df['bert_distr_d_factor'].unique())"
   ]
  },
  {
   "cell_type": "code",
   "execution_count": 11,
   "metadata": {},
   "outputs": [
    {
     "data": {
      "image/png": "[encoded data removed]",
      "text/plain": [
       "<Figure size 432x288 with 1 Axes>"
      ]
     },
     "metadata": {},
     "output_type": "display_data"
    }
   ],
   "source": [
    "plot_listener_accuracy_by_distractor(df, 'max')"
   ]
  },
  {
   "cell_type": "markdown",
   "metadata": {},
   "source": [
    "## The role of alpha for the incremental S1\n",
    "\n",
    "It looks like higher alpha consistently leads to higher accuracy, even for the simpler two-distractor setting."
   ]
  },
  {
   "cell_type": "code",
   "execution_count": 12,
   "metadata": {},
   "outputs": [],
   "source": [
    "def plot_accuracy_by_alpha_for_s1(df):\n",
    "    s1_df = df[df['mode'] == 'incr_s1']\n",
    "    s1_df_acc = pd.pivot_table(\n",
    "        s1_df, \n",
    "        index='prag_alpha', \n",
    "        columns='bert_distr_d_factor', \n",
    "        values='listener_acc')\n",
    "    ax = s1_df_acc.plot()\n",
    "    ax.set_ylabel('listener_acc')\n",
    "    ax.set_xticks(s1_df['prag_alpha'].unique())\n",
    "    return ax"
   ]
  },
  {
   "cell_type": "code",
   "execution_count": 13,
   "metadata": {},
   "outputs": [
    {
     "data": {
      "image/png": "[encoded data removed]",
      "text/plain": [
       "<Figure size 432x288 with 1 Axes>"
      ]
     },
     "metadata": {},
     "output_type": "display_data"
    }
   ],
   "source": [
    "_ = plot_accuracy_by_alpha_for_s1(df)"
   ]
  },
  {
   "cell_type": "markdown",
   "metadata": {},
   "source": [
    "## ROUGE scoring\n",
    "\n",
    "The pragmatic model is not ahead here, but I am not sure how surprised we should be by that given the values encoded by ROUGE."
   ]
  },
  {
   "cell_type": "code",
   "execution_count": 13,
   "metadata": {},
   "outputs": [],
   "source": [
    "def get_rouge_by_distractor(df, rouge_type, aggfunc):\n",
    "    rouge_col = \"rouge_{}\".format(rouge_type)\n",
    "    pt = pd.pivot_table(\n",
    "        df, \n",
    "        index='bert_distr_d_factor', \n",
    "        columns='mode', \n",
    "        values=rouge_col,\n",
    "        aggfunc=aggfunc)\n",
    "    # Format for faster quick comparisons:\n",
    "    return (pt * 100).round(3)"
   ]
  },
  {
   "cell_type": "code",
   "execution_count": 14,
   "metadata": {},
   "outputs": [
    {
     "data": {
      "text/html": [
       "<div>\n",
       "<style scoped>\n",
       "    .dataframe tbody tr th:only-of-type {\n",
       "        vertical-align: middle;\n",
       "    }\n",
       "\n",
       "    .dataframe tbody tr th {\n",
       "        vertical-align: top;\n",
       "    }\n",
       "\n",
       "    .dataframe thead th {\n",
       "        text-align: right;\n",
       "    }\n",
       "</style>\n",
       "<table border=\"1\" class=\"dataframe\">\n",
       "  <thead>\n",
       "    <tr style=\"text-align: right;\">\n",
       "      <th>mode</th>\n",
       "      <th>incr_s1</th>\n",
       "      <th>s0</th>\n",
       "    </tr>\n",
       "    <tr>\n",
       "      <th>bert_distr_d_factor</th>\n",
       "      <th></th>\n",
       "      <th></th>\n",
       "    </tr>\n",
       "  </thead>\n",
       "  <tbody>\n",
       "    <tr>\n",
       "      <th>2</th>\n",
       "      <td>45.070</td>\n",
       "      <td>45.066</td>\n",
       "    </tr>\n",
       "    <tr>\n",
       "      <th>5</th>\n",
       "      <td>44.919</td>\n",
       "      <td>45.066</td>\n",
       "    </tr>\n",
       "    <tr>\n",
       "      <th>10</th>\n",
       "      <td>44.610</td>\n",
       "      <td>45.066</td>\n",
       "    </tr>\n",
       "  </tbody>\n",
       "</table>\n",
       "</div>"
      ],
      "text/plain": [
       "mode                 incr_s1      s0\n",
       "bert_distr_d_factor                 \n",
       "2                     45.070  45.066\n",
       "5                     44.919  45.066\n",
       "10                    44.610  45.066"
      ]
     },
     "execution_count": 14,
     "metadata": {},
     "output_type": "execute_result"
    }
   ],
   "source": [
    "get_rouge_by_distractor(df, '1f', 'max')"
   ]
  },
  {
   "cell_type": "code",
   "execution_count": 15,
   "metadata": {},
   "outputs": [
    {
     "data": {
      "text/html": [
       "<div>\n",
       "<style scoped>\n",
       "    .dataframe tbody tr th:only-of-type {\n",
       "        vertical-align: middle;\n",
       "    }\n",
       "\n",
       "    .dataframe tbody tr th {\n",
       "        vertical-align: top;\n",
       "    }\n",
       "\n",
       "    .dataframe thead th {\n",
       "        text-align: right;\n",
       "    }\n",
       "</style>\n",
       "<table border=\"1\" class=\"dataframe\">\n",
       "  <thead>\n",
       "    <tr style=\"text-align: right;\">\n",
       "      <th>mode</th>\n",
       "      <th>incr_s1</th>\n",
       "      <th>s0</th>\n",
       "    </tr>\n",
       "    <tr>\n",
       "      <th>bert_distr_d_factor</th>\n",
       "      <th></th>\n",
       "      <th></th>\n",
       "    </tr>\n",
       "  </thead>\n",
       "  <tbody>\n",
       "    <tr>\n",
       "      <th>2</th>\n",
       "      <td>23.657</td>\n",
       "      <td>23.532</td>\n",
       "    </tr>\n",
       "    <tr>\n",
       "      <th>5</th>\n",
       "      <td>23.489</td>\n",
       "      <td>23.532</td>\n",
       "    </tr>\n",
       "    <tr>\n",
       "      <th>10</th>\n",
       "      <td>23.239</td>\n",
       "      <td>23.532</td>\n",
       "    </tr>\n",
       "  </tbody>\n",
       "</table>\n",
       "</div>"
      ],
      "text/plain": [
       "mode                 incr_s1      s0\n",
       "bert_distr_d_factor                 \n",
       "2                     23.657  23.532\n",
       "5                     23.489  23.532\n",
       "10                    23.239  23.532"
      ]
     },
     "execution_count": 15,
     "metadata": {},
     "output_type": "execute_result"
    }
   ],
   "source": [
    "get_rouge_by_distractor(df, '2f', 'max')"
   ]
  },
  {
   "cell_type": "code",
   "execution_count": 16,
   "metadata": {},
   "outputs": [
    {
     "data": {
      "text/html": [
       "<div>\n",
       "<style scoped>\n",
       "    .dataframe tbody tr th:only-of-type {\n",
       "        vertical-align: middle;\n",
       "    }\n",
       "\n",
       "    .dataframe tbody tr th {\n",
       "        vertical-align: top;\n",
       "    }\n",
       "\n",
       "    .dataframe thead th {\n",
       "        text-align: right;\n",
       "    }\n",
       "</style>\n",
       "<table border=\"1\" class=\"dataframe\">\n",
       "  <thead>\n",
       "    <tr style=\"text-align: right;\">\n",
       "      <th>mode</th>\n",
       "      <th>incr_s1</th>\n",
       "      <th>s0</th>\n",
       "    </tr>\n",
       "    <tr>\n",
       "      <th>bert_distr_d_factor</th>\n",
       "      <th></th>\n",
       "      <th></th>\n",
       "    </tr>\n",
       "  </thead>\n",
       "  <tbody>\n",
       "    <tr>\n",
       "      <th>2</th>\n",
       "      <td>42.582</td>\n",
       "      <td>42.619</td>\n",
       "    </tr>\n",
       "    <tr>\n",
       "      <th>5</th>\n",
       "      <td>42.411</td>\n",
       "      <td>42.619</td>\n",
       "    </tr>\n",
       "    <tr>\n",
       "      <th>10</th>\n",
       "      <td>42.070</td>\n",
       "      <td>42.619</td>\n",
       "    </tr>\n",
       "  </tbody>\n",
       "</table>\n",
       "</div>"
      ],
      "text/plain": [
       "mode                 incr_s1      s0\n",
       "bert_distr_d_factor                 \n",
       "2                     42.582  42.619\n",
       "5                     42.411  42.619\n",
       "10                    42.070  42.619"
      ]
     },
     "execution_count": 16,
     "metadata": {},
     "output_type": "execute_result"
    }
   ],
   "source": [
    "get_rouge_by_distractor(df, 'lf', 'max')"
   ]
  },
  {
   "cell_type": "code",
   "execution_count": 20,
   "metadata": {},
   "outputs": [
    {
     "data": {
      "text/html": [
       "<div>\n",
       "<style scoped>\n",
       "    .dataframe tbody tr th:only-of-type {\n",
       "        vertical-align: middle;\n",
       "    }\n",
       "\n",
       "    .dataframe tbody tr th {\n",
       "        vertical-align: top;\n",
       "    }\n",
       "\n",
       "    .dataframe thead th {\n",
       "        text-align: right;\n",
       "    }\n",
       "</style>\n",
       "<table border=\"1\" class=\"dataframe\">\n",
       "  <thead>\n",
       "    <tr style=\"text-align: right;\">\n",
       "      <th>mode</th>\n",
       "      <th>incr_s1</th>\n",
       "      <th>s0</th>\n",
       "    </tr>\n",
       "    <tr>\n",
       "      <th>bert_distr_d_factor</th>\n",
       "      <th></th>\n",
       "      <th></th>\n",
       "    </tr>\n",
       "  </thead>\n",
       "  <tbody>\n",
       "    <tr>\n",
       "      <th>2</th>\n",
       "      <td>44.767</td>\n",
       "      <td>45.066</td>\n",
       "    </tr>\n",
       "    <tr>\n",
       "      <th>5</th>\n",
       "      <td>44.199</td>\n",
       "      <td>45.066</td>\n",
       "    </tr>\n",
       "    <tr>\n",
       "      <th>10</th>\n",
       "      <td>43.293</td>\n",
       "      <td>45.066</td>\n",
       "    </tr>\n",
       "  </tbody>\n",
       "</table>\n",
       "</div>"
      ],
      "text/plain": [
       "mode                 incr_s1      s0\n",
       "bert_distr_d_factor                 \n",
       "2                     44.767  45.066\n",
       "5                     44.199  45.066\n",
       "10                    43.293  45.066"
      ]
     },
     "execution_count": 20,
     "metadata": {},
     "output_type": "execute_result"
    }
   ],
   "source": [
    "get_rouge_by_distractor(df, '1f', 'mean')"
   ]
  },
  {
   "cell_type": "markdown",
   "metadata": {},
   "source": [
    "## METEOR scoring"
   ]
  },
  {
   "cell_type": "code",
   "execution_count": 16,
   "metadata": {},
   "outputs": [],
   "source": [
    "def get_meteor_by_distractor(df, aggfunc):\n",
    "    pt = pd.pivot_table(\n",
    "        df, \n",
    "        index='bert_distr_d_factor', \n",
    "        columns='mode', \n",
    "        values='METEOR',\n",
    "        aggfunc=aggfunc)\n",
    "    # Format for faster quick comparisons:\n",
    "    return (pt * 100).round(3)"
   ]
  },
  {
   "cell_type": "code",
   "execution_count": 17,
   "metadata": {},
   "outputs": [
    {
     "data": {
      "text/html": [
       "<div>\n",
       "<style scoped>\n",
       "    .dataframe tbody tr th:only-of-type {\n",
       "        vertical-align: middle;\n",
       "    }\n",
       "\n",
       "    .dataframe tbody tr th {\n",
       "        vertical-align: top;\n",
       "    }\n",
       "\n",
       "    .dataframe thead th {\n",
       "        text-align: right;\n",
       "    }\n",
       "</style>\n",
       "<table border=\"1\" class=\"dataframe\">\n",
       "  <thead>\n",
       "    <tr style=\"text-align: right;\">\n",
       "      <th>mode</th>\n",
       "      <th>incr_s1</th>\n",
       "      <th>s0</th>\n",
       "    </tr>\n",
       "    <tr>\n",
       "      <th>bert_distr_d_factor</th>\n",
       "      <th></th>\n",
       "      <th></th>\n",
       "    </tr>\n",
       "  </thead>\n",
       "  <tbody>\n",
       "    <tr>\n",
       "      <th>2</th>\n",
       "      <td>21.078</td>\n",
       "      <td>20.968</td>\n",
       "    </tr>\n",
       "    <tr>\n",
       "      <th>5</th>\n",
       "      <td>21.051</td>\n",
       "      <td>20.968</td>\n",
       "    </tr>\n",
       "    <tr>\n",
       "      <th>10</th>\n",
       "      <td>20.974</td>\n",
       "      <td>20.968</td>\n",
       "    </tr>\n",
       "  </tbody>\n",
       "</table>\n",
       "</div>"
      ],
      "text/plain": [
       "mode                 incr_s1      s0\n",
       "bert_distr_d_factor                 \n",
       "2                     21.078  20.968\n",
       "5                     21.051  20.968\n",
       "10                    20.974  20.968"
      ]
     },
     "execution_count": 17,
     "metadata": {},
     "output_type": "execute_result"
    }
   ],
   "source": [
    "get_meteor_by_distractor(df, 'max')"
   ]
  },
  {
   "cell_type": "code",
   "execution_count": null,
   "metadata": {},
   "outputs": [],
   "source": []
  }
 ],
 "metadata": {
  "kernelspec": {
   "display_name": "Python 3",
   "language": "python",
   "name": "python3"
  },
  "language_info": {
   "codemirror_mode": {
    "name": "ipython",
    "version": 3
   },
   "file_extension": ".py",
   "mimetype": "text/x-python",
   "name": "python",
   "nbconvert_exporter": "python",
   "pygments_lexer": "ipython3",
   "version": "3.7.4"
  }
 },
 "nbformat": 4,
 "nbformat_minor": 2
}
